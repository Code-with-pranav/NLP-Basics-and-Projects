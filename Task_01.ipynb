{
  "nbformat": 4,
  "nbformat_minor": 0,
  "metadata": {
    "colab": {
      "provenance": []
    },
    "kernelspec": {
      "name": "python3",
      "display_name": "Python 3"
    },
    "language_info": {
      "name": "python"
    }
  },
  "cells": [
    {
      "cell_type": "markdown",
      "source": [
        "**Task 1.1** Task is to write a function named add_alignments(l,m) that takes two integers l and m and return a list of lists of all possible alignments."
      ],
      "metadata": {
        "id": "zn9vU15CN9Vq"
      }
    },
    {
      "cell_type": "code",
      "source": [
        "def add_alignments(l,m):\n",
        "  output= []\n",
        "  for i in range(l+1):\n",
        "    for j in range(m+1):\n",
        "      output.append([i,j])\n",
        "  return output\n",
        "l = int(input(\"Enter value of l: \"))\n",
        "m = int(input(\"Enter value of m: \"))\n",
        "output = add_alignments(l,m)\n",
        "print(output)"
      ],
      "metadata": {
        "colab": {
          "base_uri": "https://localhost:8080/"
        },
        "id": "mDwGa2OFNJpT",
        "outputId": "03956bda-6432-4223-b734-bd68d76bd7e4"
      },
      "execution_count": null,
      "outputs": [
        {
          "output_type": "stream",
          "name": "stdout",
          "text": [
            "Enter value of l: 2\n",
            "Enter value of m: 2\n",
            "[[0, 0], [0, 1], [0, 2], [1, 0], [1, 1], [1, 2], [2, 0], [2, 1], [2, 2]]\n"
          ]
        }
      ]
    },
    {
      "cell_type": "markdown",
      "source": [
        "**Tak 1.2** Write a function tokenize(s) that takes a string s and returns a list of tokens."
      ],
      "metadata": {
        "id": "jdgXOggTUAax"
      }
    },
    {
      "cell_type": "code",
      "source": [
        "def tokenize(s):\n",
        "  output = []\n",
        "  word = ''\n",
        "  for i in range(len(s)):\n",
        "    if s[i] != ' ':\n",
        "      word += s[i]\n",
        "    else:\n",
        "      if word != '':\n",
        "        output.append(word)\n",
        "        word =''\n",
        "  if word not in output and word != '':\n",
        "    output.append(word)\n",
        "  return output\n",
        "s = input(\"Enter string: \")\n",
        "output = tokenize(s)\n",
        "print(output)"
      ],
      "metadata": {
        "colab": {
          "base_uri": "https://localhost:8080/"
        },
        "id": "88EP905oUOqv",
        "outputId": "4e4b5961-437b-4787-af50-aaec9bcd991c"
      },
      "execution_count": null,
      "outputs": [
        {
          "output_type": "stream",
          "name": "stdout",
          "text": [
            "Enter string: nlp is easy\n",
            "['nlp', 'is', 'easy']\n"
          ]
        }
      ]
    },
    {
      "cell_type": "markdown",
      "source": [
        "**Task 1.3** Build a function IBM_model(f,e,m) that takes two strings f, e and integers m and return the values of P(f|e,m).\n",
        "\n",
        "for now,\n",
        "\n",
        "*   Assume m = l\n",
        "*   Write a function word_prob(wf,we_a) where wf and we_a are words and always returns the value 0.5.\n",
        "\n"
      ],
      "metadata": {
        "id": "BF2_zoabhfwO"
      }
    },
    {
      "cell_type": "code",
      "source": [
        "def IBM_model(f,e,m):\n",
        "  l = m;\n",
        "  A = add_alignments(l,m)\n",
        "  prob_of_a_given_e_and_m = 1/((1 + l) ** m)\n",
        "  word_level_prob = 1\n",
        "  for i in range(1,m+1):\n",
        "    word_level_prob *= 0.5\n",
        "  prob_of_f_given_e_and_m = 0\n",
        "  for a in A:\n",
        "    prob_of_f_given_e_and_m += (prob_of_a_given_e_and_m * word_level_prob)\n",
        "  return prob_of_f_given_e_and_m"
      ],
      "metadata": {
        "id": "-0HqjmtXUw83"
      },
      "execution_count": null,
      "outputs": []
    },
    {
      "cell_type": "code",
      "source": [
        "f = 'एनएलपी आसान है'\n",
        "e = input(\"Enter a english sentance: \")\n",
        "m = tokenize(e)\n",
        "m = len(m)\n",
        "probability = IBM_model(f,e,m)\n",
        "print(probability)"
      ],
      "metadata": {
        "id": "53X7lqqLWPix",
        "colab": {
          "base_uri": "https://localhost:8080/"
        },
        "outputId": "9662f1c1-2a7c-4a6d-fea5-11370f95cfb8"
      },
      "execution_count": null,
      "outputs": [
        {
          "output_type": "stream",
          "name": "stdout",
          "text": [
            "Enter a english sentance: NLP is easy\n",
            "0.03125\n"
          ]
        }
      ]
    },
    {
      "cell_type": "code",
      "source": [
        "dataset = [\n",
        "    { \"en\": \"Give your application an accessibility workout\", \"hi\": \"अपने अनुप्रयोग को पहुंचनीयता व्यायाम का लाभ दें\" },\n",
        "    { \"en\": \"Accerciser Accessibility Explorer\", \"hi\": \"एक्सेर्साइसर पहुंचनीयता अन्वेषक\" },\n",
        "    { \"en\": \"The default plugin layout for the bottom panel\", \"hi\": \"निचले पटल के लिए डिफोल्ट प्लग-इन खाका\" },\n",
        "    { \"en\": \"The default plugin layout for the top panel\", \"hi\": \"ऊपरी पटल के लिए डिफोल्ट प्लग-इन खाका\" },\n",
        "    { \"en\": \"A list of plugins that are disabled by default\", \"hi\": \"उन प्लग-इनों की सूची जिन्हें डिफोल्ट रूप से निष्क्रिय किया गया है\" },\n",
        "    { \"en\": \"Highlight duration\", \"hi\": \"अवधि को हाइलाइट रकें\" },\n",
        "    { \"en\": \"The duration of the highlight box when selecting accessible nodes\", \"hi\": \"पहुंचनीय आसंधि (नोड) को चुनते समय हाइलाइट बक्से की अवधि\" },\n",
        "    { \"en\": \"Highlight border color\", \"hi\": \"सीमांत (बोर्डर) के रंग को हाइलाइट करें\" },\n",
        "    { \"en\": \"The color and opacity of the highlight border.\", \"hi\": \"हाइलाइट किए गए सीमांत का रंग और अपारदर्शिता। \" },\n",
        "    { \"en\": \"Highlight fill color\", \"hi\": \"भराई के रंग को हाइलाइट करें\" },\n",
        "    { \"en\": \"The color and opacity of the highlight fill.\", \"hi\": \"हाइलाइट किया गया भराई का रंग और पारदर्शिता। \" },\n",
        "    { \"en\": \"API Browser\", \"hi\": \"एपीआई विचरक\" },\n",
        "    { \"en\": \"Browse the various methods of the current accessible\", \"hi\": \"इस समय जिसे प्राप्त किया गया हो, उसकी विभिन्न विधियों (मेथड) में विचरण करें\" },\n",
        "    { \"en\": \"Hide private attributes\", \"hi\": \"निजी गुणों को छिपाएं\" },\n",
        "    { \"en\": \"Method\", \"hi\": \"विधि\" },\n",
        "    { \"en\": \"Property\", \"hi\": \"गुणधर्म\" },\n",
        "    { \"en\": \"Value\", \"hi\": \"मान\" },\n",
        "    { \"en\": \"IPython Console\", \"hi\": \"आईपाइथन कन्सोल\" },\n",
        "    { \"en\": \"Interactive console for manipulating currently selected accessible\", \"hi\": \"इस समय चुने गए एक्सेसेबेल से काम लेने के लिए अंतर्क्रियात्मक कन्सोल\" },\n",
        "    { \"en\": \"Event monitor\", \"hi\": \"घटना मानिटर\" },\n",
        "    { \"en\": \"_ Monitor Events\", \"hi\": \"घटनाओं को मानिटर करें (_ M) \" },\n",
        "    { \"en\": \"C _ lear Selection\", \"hi\": \"चुनाव को हटाएं (C _) \" },\n",
        "    { \"en\": \"Everything\", \"hi\": \"सभी\" },\n",
        "    { \"en\": \"Selected application\", \"hi\": \"चुने गए अनुप्रयोग\" },\n",
        "    { \"en\": \"Selected accessible\", \"hi\": \"चुने गए एक्सेसेबेल\" },\n",
        "    { \"en\": \"Source\", \"hi\": \"स्रोत\" },\n",
        "    { \"en\": \"Event Monitor\", \"hi\": \"घटना मानिटर\" },\n",
        "    { \"en\": \"Shows events as they occur from selected types and sources\", \"hi\": \"चुने गए प्रकारों और स्रोतों से घटनाएं जैसे-जैसे घटित होती हैं, उन्हें दर्शाता है\" },\n",
        "    { \"en\": \"Highlight last event entry\", \"hi\": \"अंतिम प्रविष्ट घटना को हाइलाइट करो\" },\n",
        "    { \"en\": \"Start / stop event recording\", \"hi\": \"घटना रेकोर्डिंग शुरू करो/रोको\" },\n",
        "    { \"en\": \"Clear event log\", \"hi\": \"घटना रोजनामचा मिटाओ\" },\n",
        "    { \"en\": \"(no description)\", \"hi\": \"कोई विवरण नहीं\" },\n",
        "    { \"en\": \"Description\", \"hi\": \"वर्णन\" },\n",
        "    { \"en\": \"Show\", \"hi\": \"दिखाएं\" },\n",
        "    { \"en\": \"_ Accessible\", \"hi\": \"पहुंचनीय\" },\n",
        "    { \"en\": \"Perform action\", \"hi\": \"कार्रवाई संपन्न करें\" },\n",
        "    { \"en\": \"Acti _ on\", \"hi\": \"कार्रवाई (_ o) \" },\n",
        "    { \"en\": \"ID\", \"hi\": \"आईडी\" },\n",
        "    { \"en\": \"Toolkit\", \"hi\": \"औजार बक्सा\" },\n",
        "    { \"en\": \"Version\", \"hi\": \"संस्करण\" },\n",
        "    { \"en\": \"Ap _ plication\", \"hi\": \"अनुप्रयोग\" },\n",
        "    { \"en\": \"Col _ lection\", \"hi\": \"संग्रह\" },\n",
        "    { \"en\": \"0, 0\", \"hi\": \"0, 0\" },\n",
        "    { \"en\": \"Relative position\", \"hi\": \"सापेक्ष स्थिति\" },\n",
        "    { \"en\": \"Size\", \"hi\": \"आकार\" },\n",
        "    { \"en\": \"WIDGET\", \"hi\": \"विडजेट\" },\n",
        "    { \"en\": \"Layer\", \"hi\": \"स्तर\" },\n",
        "    { \"en\": \"MDI - Z - order\", \"hi\": \"एमडीआई-जेड-क्रम\" },\n",
        "    { \"en\": \"Alpha\", \"hi\": \"अल्फा\" },\n",
        "    { \"en\": \"Absolute position\", \"hi\": \"निरपेक्ष स्थिति\" },\n",
        "    { \"en\": \"Co _ mponent\", \"hi\": \"घटक\" },\n",
        "    { \"en\": \"Des _ ktop\", \"hi\": \"डेस्कटोप\" },\n",
        "    { \"en\": \"Locale:\", \"hi\": \"स्थान-विशिष्टः\" },\n",
        "    { \"en\": \"_ Document\", \"hi\": \"प्रलेख\" },\n",
        "    { \"en\": \"Hyperlink\", \"hi\": \"हाइपरकड़ी\" },\n",
        "    { \"en\": \"H _ ypertext\", \"hi\": \"हाइपरपाठ\" },\n",
        "    { \"en\": \"Position\", \"hi\": \"स्थिति\" },\n",
        "    { \"en\": \"Description\", \"hi\": \"वर्णन\" },\n",
        "    { \"en\": \"Locale\", \"hi\": \"स्थान-विशिष्ट\" },\n",
        "    { \"en\": \"_ Image\", \"hi\": \"छवि (_ I) \" },\n",
        "    { \"en\": \"Lo _ gin Helper\", \"hi\": \"प्रवेश सहायक\" },\n",
        "    { \"en\": \"Select All\", \"hi\": \"सभी चुनें\" },\n",
        "    { \"en\": \"_ Selection\", \"hi\": \"चयन (_ S) \" },\n",
        "    { \"en\": \"St _ reamable Content\", \"hi\": \"प्रवाहित करनेयोग्य विषयवस्तु\" },\n",
        "    { \"en\": \"Selected columns\", \"hi\": \"चुने गए स्तंभ\" },\n",
        "    { \"en\": \"Selected rows\", \"hi\": \"चुनी गई पंक्तियां\" },\n",
        "    { \"en\": \"Columns\", \"hi\": \"स्तंभ\" },\n",
        "    { \"en\": \"Rows\", \"hi\": \"पंक्तियां\" },\n",
        "    { \"en\": \"Table Information\", \"hi\": \"& lt; bgt; सारणी सूचनाlt;/bgt; \" },\n",
        "    { \"en\": \"name (x, y)\", \"hi\": \"नाम (x, y) \" },\n",
        "    { \"en\": \"Header:\", \"hi\": \"शीर्षकः\" },\n",
        "    { \"en\": \"Extents:\", \"hi\": \"विस्तारः\" },\n",
        "    { \"en\": \"Row\", \"hi\": \"पंक्ति\" },\n",
        "    { \"en\": \"Column\", \"hi\": \"स्तंभ\" },\n",
        "    { \"en\": \"Selected Cell\", \"hi\": \"& lt; bgt; चुनी गई कोशिकाlt;/bgt; \" },\n",
        "    { \"en\": \"_ Table\", \"hi\": \"सारणी (_ T) \" },\n",
        "    { \"en\": \"Offset\", \"hi\": \"ओफसेट\" },\n",
        "    { \"en\": \"Include defaults\", \"hi\": \"डिफोल्टों को शामिल करें\" },\n",
        "    { \"en\": \"Te _ xt\", \"hi\": \"पाठ (_ x) \" },\n",
        "    { \"en\": \"Current value\", \"hi\": \"मौजूदा मान\" },\n",
        "    { \"en\": \"Minimum increment\", \"hi\": \"न्यूनतम वृद्धि\" },\n",
        "    { \"en\": \"Maximum value\", \"hi\": \"अधिकतम मान\" },\n",
        "    { \"en\": \"Minimum value\", \"hi\": \"न्यूनतम मान\" },\n",
        "    { \"en\": \"Val _ ue\", \"hi\": \"मान\" },\n",
        "    { \"en\": \"Interface Viewer\", \"hi\": \"अंतराफलक दर्शक\" },\n",
        "    { \"en\": \"Allows viewing of various interface properties\", \"hi\": \"अंतराफलक के विभिन्न गुणों को देखने देता है\" },\n",
        "    { \"en\": \"(not implemented)\", \"hi\": \"(क्रियान्वित नहीं हुआ है) \" },\n",
        "    { \"en\": \"Name\", \"hi\": \"नाम\" },\n",
        "    { \"en\": \"URI\", \"hi\": \"यूआरआई\" },\n",
        "    { \"en\": \"Start\", \"hi\": \"प्रारंभ\" },\n",
        "    { \"en\": \"End\", \"hi\": \"अंत\" },\n",
        "    { \"en\": \"Too many selectable children\", \"hi\": \"बहुत अधिक चयनीय शिशु हैं\" },\n",
        "    { \"en\": \"Quick Select\", \"hi\": \"तेज चुनाव\" },\n",
        "    { \"en\": \"Plugin with various methods of selecting accessibles quickly.\", \"hi\": \"प्लग-इन जिसमें हैं एक्सेसेबेलों को तेजी से चुनने के लिए कई विधियां\" },\n",
        "    { \"en\": \"Inspect last focused accessible\", \"hi\": \"अंतिम बार फोकस किए गए एक्सेसेबल को जांचें\" },\n",
        "    { \"en\": \"Inspect accessible under mouse\", \"hi\": \"माउस के अधीन जो एक्सेसेबल है, उसे जांचें\" },\n",
        "    { \"en\": \"Native\", \"hi\": \"वतनी\" },\n",
        "    { \"en\": \"Dogtail\", \"hi\": \"श्वानपुच्छ\" },\n",
        "    { \"en\": \"LDTP\", \"hi\": \"एलडीटीपी\" },\n",
        "    { \"en\": \"Script Type\", \"hi\": \"लिपि प्रकार\" }\n",
        "]\n"
      ],
      "metadata": {
        "id": "Hk6Zx6N4uSrh"
      },
      "execution_count": null,
      "outputs": []
    },
    {
      "cell_type": "code",
      "source": [
        "# for pair in dataset:\n",
        "#   print(pair)\n",
        "sentence = dataset[0]\n",
        "\n",
        "print(sentence[\"en\"])"
      ],
      "metadata": {
        "colab": {
          "base_uri": "https://localhost:8080/"
        },
        "id": "eqkkOQb2xLc5",
        "outputId": "81f7a647-1a70-4d3d-9a14-394fe2d26870"
      },
      "execution_count": null,
      "outputs": [
        {
          "output_type": "stream",
          "name": "stdout",
          "text": [
            "Give your application an accessibility workout\n"
          ]
        }
      ]
    },
    {
      "cell_type": "code",
      "source": [
        "en_sentence = sentence[\"en\"]\n",
        "hi_sentence = sentence[\"hi\"]\n",
        "\n",
        "print(en_sentence.split())\n",
        "print(hi_sentence.split())"
      ],
      "metadata": {
        "colab": {
          "base_uri": "https://localhost:8080/"
        },
        "id": "RiM6Uqk_xNHx",
        "outputId": "7b056b9d-75bd-4c07-b3da-ddada77ca73c"
      },
      "execution_count": null,
      "outputs": [
        {
          "output_type": "stream",
          "name": "stdout",
          "text": [
            "['Give', 'your', 'application', 'an', 'accessibility', 'workout']\n",
            "['अपने', 'अनुप्रयोग', 'को', 'पहुंचनीयता', 'व्यायाम', 'का', 'लाभ', 'दें']\n"
          ]
        }
      ]
    },
    {
      "cell_type": "code",
      "source": [
        "l = len(en_sentence.split())\n",
        "m = len(hi_sentence.split())\n",
        "print(l,m)"
      ],
      "metadata": {
        "colab": {
          "base_uri": "https://localhost:8080/"
        },
        "id": "0W05Yo3DyE9g",
        "outputId": "f7913e4d-c9c1-4461-ec6d-f3328f0f537d"
      },
      "execution_count": null,
      "outputs": [
        {
          "output_type": "stream",
          "name": "stdout",
          "text": [
            "6 8\n"
          ]
        }
      ]
    },
    {
      "cell_type": "code",
      "source": [
        "eps_list = []\n",
        "for sentence in dataset:\n",
        "  en_sentence = sentence[\"en\"]\n",
        "  hi_sentence = sentence[\"hi\"]\n",
        "\n",
        "  l = len(en_sentence.split())\n",
        "  m = len(hi_sentence.split())\n",
        "  eps = m - l\n",
        "  eps_list.append(eps)\n",
        "  print(l,m,eps)\n"
      ],
      "metadata": {
        "colab": {
          "base_uri": "https://localhost:8080/"
        },
        "id": "C4MJfGKLzrmh",
        "outputId": "a2018534-985f-46bd-8a53-f7ae3a81b489"
      },
      "execution_count": null,
      "outputs": [
        {
          "output_type": "stream",
          "name": "stdout",
          "text": [
            "6 8 2\n",
            "3 3 0\n",
            "8 7 -1\n",
            "8 7 -1\n",
            "9 12 3\n",
            "2 4 2\n",
            "10 10 0\n",
            "3 7 4\n",
            "8 8 0\n",
            "3 6 3\n",
            "8 8 0\n",
            "2 2 0\n",
            "8 14 6\n",
            "3 4 1\n",
            "1 1 0\n",
            "1 1 0\n",
            "1 1 0\n",
            "2 2 0\n",
            "7 12 5\n",
            "2 2 0\n",
            "3 6 3\n",
            "4 5 1\n",
            "1 1 0\n",
            "2 3 1\n",
            "2 3 1\n",
            "1 1 0\n",
            "2 2 0\n",
            "10 14 4\n",
            "4 6 2\n",
            "5 4 -1\n",
            "3 3 0\n",
            "2 3 1\n",
            "1 1 0\n",
            "1 1 0\n",
            "2 1 -1\n",
            "2 3 1\n",
            "3 3 0\n",
            "1 1 0\n",
            "1 2 1\n",
            "1 1 0\n",
            "3 1 -2\n",
            "3 1 -2\n",
            "2 2 0\n",
            "2 2 0\n",
            "1 1 0\n",
            "1 1 0\n",
            "1 1 0\n",
            "5 1 -4\n",
            "1 1 0\n",
            "2 2 0\n",
            "3 1 -2\n",
            "3 1 -2\n",
            "1 1 0\n",
            "2 1 -1\n",
            "1 1 0\n",
            "3 1 -2\n",
            "1 1 0\n",
            "1 1 0\n",
            "1 1 0\n",
            "2 3 1\n",
            "4 2 -2\n",
            "2 2 0\n",
            "2 3 1\n",
            "4 3 -1\n",
            "2 3 1\n",
            "2 3 1\n",
            "1 1 0\n",
            "1 1 0\n",
            "2 5 3\n",
            "3 3 0\n",
            "1 1 0\n",
            "1 1 0\n",
            "1 1 0\n",
            "1 1 0\n",
            "2 6 4\n",
            "2 3 1\n",
            "1 1 0\n",
            "2 4 2\n",
            "3 3 0\n",
            "2 2 0\n",
            "2 2 0\n",
            "2 2 0\n",
            "2 2 0\n",
            "3 1 -2\n",
            "2 2 0\n",
            "6 8 2\n",
            "2 4 2\n",
            "1 1 0\n",
            "1 1 0\n",
            "1 1 0\n",
            "1 1 0\n",
            "4 5 1\n",
            "2 2 0\n",
            "8 12 4\n",
            "4 8 4\n",
            "4 8 4\n",
            "1 1 0\n",
            "1 1 0\n",
            "1 1 0\n",
            "2 2 0\n"
          ]
        }
      ]
    },
    {
      "cell_type": "code",
      "source": [
        "import matplotlib.pyplot as plt\n",
        "plt.hist(eps_list,bins=20)\n",
        "plt.show()"
      ],
      "metadata": {
        "colab": {
          "base_uri": "https://localhost:8080/",
          "height": 430
        },
        "id": "9N3UIvcq2Kxw",
        "outputId": "8f94ed1c-e4b0-4bf5-850e-7031aad8d2c4"
      },
      "execution_count": null,
      "outputs": [
        {
          "output_type": "display_data",
          "data": {
            "text/plain": [
              "<Figure size 640x480 with 1 Axes>"
            ],
            "image/png": "[encoded data removed]"
          },
          "metadata": {}
        }
      ]
    },
    {
      "cell_type": "code",
      "source": [
        "import pandas as pd\n",
        "df = pd.DataFrame(eps_list)"
      ],
      "metadata": {
        "id": "ocOhc5yX4ij6"
      },
      "execution_count": null,
      "outputs": []
    },
    {
      "cell_type": "code",
      "source": [
        "plt.boxplot(eps_list)\n",
        "plt.show()"
      ],
      "metadata": {
        "colab": {
          "base_uri": "https://localhost:8080/",
          "height": 430
        },
        "id": "DBQqq6UB5otj",
        "outputId": "a1324371-1107-408c-ff51-e40eccd5e843"
      },
      "execution_count": null,
      "outputs": [
        {
          "output_type": "display_data",
          "data": {
            "text/plain": [
              "<Figure size 640x480 with 1 Axes>"
            ],
            "image/png": "[encoded data removed]"
          },
          "metadata": {}
        }
      ]
    },
    {
      "cell_type": "code",
      "source": [
        "df.describe()"
      ],
      "metadata": {
        "colab": {
          "base_uri": "https://localhost:8080/",
          "height": 300
        },
        "id": "a_kmwLlG2vKa",
        "outputId": "4b8827a4-fbfe-42a4-cce5-49eecf7bac8b"
      },
      "execution_count": null,
      "outputs": [
        {
          "output_type": "execute_result",
          "data": {
            "text/plain": [
              "                0\n",
              "count  100.000000\n",
              "mean     0.480000\n",
              "std      1.611073\n",
              "min     -4.000000\n",
              "25%      0.000000\n",
              "50%      0.000000\n",
              "75%      1.000000\n",
              "max      6.000000"
            ],
            "text/html": [
              "\n",
              "  <div id=\"df-5a23a29d-8bb8-4198-80c4-bb78ef60cac1\" class=\"colab-df-container\">\n",
              "    <div>\n",
              "<style scoped>\n",
              "    .dataframe tbody tr th:only-of-type {\n",
              "        vertical-align: middle;\n",
              "    }\n",
              "\n",
              "    .dataframe tbody tr th {\n",
              "        vertical-align: top;\n",
              "    }\n",
              "\n",
              "    .dataframe thead th {\n",
              "        text-align: right;\n",
              "    }\n",
              "</style>\n",
              "<table border=\"1\" class=\"dataframe\">\n",
              "  <thead>\n",
              "    <tr style=\"text-align: right;\">\n",
              "      <th></th>\n",
              "      <th>0</th>\n",
              "    </tr>\n",
              "  </thead>\n",
              "  <tbody>\n",
              "    <tr>\n",
              "      <th>count</th>\n",
              "      <td>100.000000</td>\n",
              "    </tr>\n",
              "    <tr>\n",
              "      <th>mean</th>\n",
              "      <td>0.480000</td>\n",
              "    </tr>\n",
              "    <tr>\n",
              "      <th>std</th>\n",
              "      <td>1.611073</td>\n",
              "    </tr>\n",
              "    <tr>\n",
              "      <th>min</th>\n",
              "      <td>-4.000000</td>\n",
              "    </tr>\n",
              "    <tr>\n",
              "      <th>25%</th>\n",
              "      <td>0.000000</td>\n",
              "    </tr>\n",
              "    <tr>\n",
              "      <th>50%</th>\n",
              "      <td>0.000000</td>\n",
              "    </tr>\n",
              "    <tr>\n",
              "      <th>75%</th>\n",
              "      <td>1.000000</td>\n",
              "    </tr>\n",
              "    <tr>\n",
              "      <th>max</th>\n",
              "      <td>6.000000</td>\n",
              "    </tr>\n",
              "  </tbody>\n",
              "</table>\n",
              "</div>\n",
              "    <div class=\"colab-df-buttons\">\n",
              "\n",
              "  <div class=\"colab-df-container\">\n",
              "    <button class=\"colab-df-convert\" onclick=\"convertToInteractive('df-5a23a29d-8bb8-4198-80c4-bb78ef60cac1')\"\n",
              "            title=\"Convert this dataframe to an interactive table.\"\n",
              "            style=\"display:none;\">\n",
              "\n",
              "  <svg xmlns=\"http://www.w3.org/2000/svg\" height=\"24px\" viewBox=\"0 -960 960 960\">\n",
              "    <path d=\"M120-120v-720h720v720H120Zm60-500h600v-160H180v160Zm220 220h160v-160H400v160Zm0 220h160v-160H400v160ZM180-400h160v-160H180v160Zm440 0h160v-160H620v160ZM180-180h160v-160H180v160Zm440 0h160v-160H620v160Z\"/>\n",
              "  </svg>\n",
              "    </button>\n",
              "\n",
              "  <style>\n",
              "    .colab-df-container {\n",
              "      display:flex;\n",
              "      gap: 12px;\n",
              "    }\n",
              "\n",
              "    .colab-df-convert {\n",
              "      background-color: #E8F0FE;\n",
              "      border: none;\n",
              "      border-radius: 50%;\n",
              "      cursor: pointer;\n",
              "      display: none;\n",
              "      fill: #1967D2;\n",
              "      height: 32px;\n",
              "      padding: 0 0 0 0;\n",
              "      width: 32px;\n",
              "    }\n",
              "\n",
              "    .colab-df-convert:hover {\n",
              "      background-color: #E2EBFA;\n",
              "      box-shadow: 0px 1px 2px rgba(60, 64, 67, 0.3), 0px 1px 3px 1px rgba(60, 64, 67, 0.15);\n",
              "      fill: #174EA6;\n",
              "    }\n",
              "\n",
              "    .colab-df-buttons div {\n",
              "      margin-bottom: 4px;\n",
              "    }\n",
              "\n",
              "    [theme=dark] .colab-df-convert {\n",
              "      background-color: #3B4455;\n",
              "      fill: #D2E3FC;\n",
              "    }\n",
              "\n",
              "    [theme=dark] .colab-df-convert:hover {\n",
              "      background-color: #434B5C;\n",
              "      box-shadow: 0px 1px 3px 1px rgba(0, 0, 0, 0.15);\n",
              "      filter: drop-shadow(0px 1px 2px rgba(0, 0, 0, 0.3));\n",
              "      fill: #FFFFFF;\n",
              "    }\n",
              "  </style>\n",
              "\n",
              "    <script>\n",
              "      const buttonEl =\n",
              "        document.querySelector('#df-5a23a29d-8bb8-4198-80c4-bb78ef60cac1 button.colab-df-convert');\n",
              "      buttonEl.style.display =\n",
              "        google.colab.kernel.accessAllowed ? 'block' : 'none';\n",
              "\n",
              "      async function convertToInteractive(key) {\n",
              "        const element = document.querySelector('#df-5a23a29d-8bb8-4198-80c4-bb78ef60cac1');\n",
              "        const dataTable =\n",
              "          await google.colab.kernel.invokeFunction('convertToInteractive',\n",
              "                                                    [key], {});\n",
              "        if (!dataTable) return;\n",
              "\n",
              "        const docLinkHtml = 'Like what you see? Visit the ' +\n",
              "          '<a target=\"_blank\" href=https://colab.research.google.com/notebooks/data_table.ipynb>data table notebook</a>'\n",
              "          + ' to learn more about interactive tables.';\n",
              "        element.innerHTML = '';\n",
              "        dataTable['output_type'] = 'display_data';\n",
              "        await google.colab.output.renderOutput(dataTable, element);\n",
              "        const docLink = document.createElement('div');\n",
              "        docLink.innerHTML = docLinkHtml;\n",
              "        element.appendChild(docLink);\n",
              "      }\n",
              "    </script>\n",
              "  </div>\n",
              "\n",
              "\n",
              "<div id=\"df-7b5c6d1f-88bd-468e-b1a3-8e4f0cfc8519\">\n",
              "  <button class=\"colab-df-quickchart\" onclick=\"quickchart('df-7b5c6d1f-88bd-468e-b1a3-8e4f0cfc8519')\"\n",
              "            title=\"Suggest charts\"\n",
              "            style=\"display:none;\">\n",
              "\n",
              "<svg xmlns=\"http://www.w3.org/2000/svg\" height=\"24px\"viewBox=\"0 0 24 24\"\n",
              "     width=\"24px\">\n",
              "    <g>\n",
              "        <path d=\"M19 3H5c-1.1 0-2 .9-2 2v14c0 1.1.9 2 2 2h14c1.1 0 2-.9 2-2V5c0-1.1-.9-2-2-2zM9 17H7v-7h2v7zm4 0h-2V7h2v10zm4 0h-2v-4h2v4z\"/>\n",
              "    </g>\n",
              "</svg>\n",
              "  </button>\n",
              "\n",
              "<style>\n",
              "  .colab-df-quickchart {\n",
              "      --bg-color: #E8F0FE;\n",
              "      --fill-color: #1967D2;\n",
              "      --hover-bg-color: #E2EBFA;\n",
              "      --hover-fill-color: #174EA6;\n",
              "      --disabled-fill-color: #AAA;\n",
              "      --disabled-bg-color: #DDD;\n",
              "  }\n",
              "\n",
              "  [theme=dark] .colab-df-quickchart {\n",
              "      --bg-color: #3B4455;\n",
              "      --fill-color: #D2E3FC;\n",
              "      --hover-bg-color: #434B5C;\n",
              "      --hover-fill-color: #FFFFFF;\n",
              "      --disabled-bg-color: #3B4455;\n",
              "      --disabled-fill-color: #666;\n",
              "  }\n",
              "\n",
              "  .colab-df-quickchart {\n",
              "    background-color: var(--bg-color);\n",
              "    border: none;\n",
              "    border-radius: 50%;\n",
              "    cursor: pointer;\n",
              "    display: none;\n",
              "    fill: var(--fill-color);\n",
              "    height: 32px;\n",
              "    padding: 0;\n",
              "    width: 32px;\n",
              "  }\n",
              "\n",
              "  .colab-df-quickchart:hover {\n",
              "    background-color: var(--hover-bg-color);\n",
              "    box-shadow: 0 1px 2px rgba(60, 64, 67, 0.3), 0 1px 3px 1px rgba(60, 64, 67, 0.15);\n",
              "    fill: var(--button-hover-fill-color);\n",
              "  }\n",
              "\n",
              "  .colab-df-quickchart-complete:disabled,\n",
              "  .colab-df-quickchart-complete:disabled:hover {\n",
              "    background-color: var(--disabled-bg-color);\n",
              "    fill: var(--disabled-fill-color);\n",
              "    box-shadow: none;\n",
              "  }\n",
              "\n",
              "  .colab-df-spinner {\n",
              "    border: 2px solid var(--fill-color);\n",
              "    border-color: transparent;\n",
              "    border-bottom-color: var(--fill-color);\n",
              "    animation:\n",
              "      spin 1s steps(1) infinite;\n",
              "  }\n",
              "\n",
              "  @keyframes spin {\n",
              "    0% {\n",
              "      border-color: transparent;\n",
              "      border-bottom-color: var(--fill-color);\n",
              "      border-left-color: var(--fill-color);\n",
              "    }\n",
              "    20% {\n",
              "      border-color: transparent;\n",
              "      border-left-color: var(--fill-color);\n",
              "      border-top-color: var(--fill-color);\n",
              "    }\n",
              "    30% {\n",
              "      border-color: transparent;\n",
              "      border-left-color: var(--fill-color);\n",
              "      border-top-color: var(--fill-color);\n",
              "      border-right-color: var(--fill-color);\n",
              "    }\n",
              "    40% {\n",
              "      border-color: transparent;\n",
              "      border-right-color: var(--fill-color);\n",
              "      border-top-color: var(--fill-color);\n",
              "    }\n",
              "    60% {\n",
              "      border-color: transparent;\n",
              "      border-right-color: var(--fill-color);\n",
              "    }\n",
              "    80% {\n",
              "      border-color: transparent;\n",
              "      border-right-color: var(--fill-color);\n",
              "      border-bottom-color: var(--fill-color);\n",
              "    }\n",
              "    90% {\n",
              "      border-color: transparent;\n",
              "      border-bottom-color: var(--fill-color);\n",
              "    }\n",
              "  }\n",
              "</style>\n",
              "\n",
              "  <script>\n",
              "    async function quickchart(key) {\n",
              "      const quickchartButtonEl =\n",
              "        document.querySelector('#' + key + ' button');\n",
              "      quickchartButtonEl.disabled = true;  // To prevent multiple clicks.\n",
              "      quickchartButtonEl.classList.add('colab-df-spinner');\n",
              "      try {\n",
              "        const charts = await google.colab.kernel.invokeFunction(\n",
              "            'suggestCharts', [key], {});\n",
              "      } catch (error) {\n",
              "        console.error('Error during call to suggestCharts:', error);\n",
              "      }\n",
              "      quickchartButtonEl.classList.remove('colab-df-spinner');\n",
              "      quickchartButtonEl.classList.add('colab-df-quickchart-complete');\n",
              "    }\n",
              "    (() => {\n",
              "      let quickchartButtonEl =\n",
              "        document.querySelector('#df-7b5c6d1f-88bd-468e-b1a3-8e4f0cfc8519 button');\n",
              "      quickchartButtonEl.style.display =\n",
              "        google.colab.kernel.accessAllowed ? 'block' : 'none';\n",
              "    })();\n",
              "  </script>\n",
              "</div>\n",
              "\n",
              "    </div>\n",
              "  </div>\n"
            ],
            "application/vnd.google.colaboratory.intrinsic+json": {
              "type": "dataframe",
              "summary": "{\n  \"name\": \"df\",\n  \"rows\": 8,\n  \"fields\": [\n    {\n      \"column\": 0,\n      \"properties\": {\n        \"dtype\": \"number\",\n        \"std\": 35.20411757139901,\n        \"min\": -4.0,\n        \"max\": 100.0,\n        \"num_unique_values\": 7,\n        \"samples\": [\n          100.0,\n          0.48,\n          1.0\n        ],\n        \"semantic_type\": \"\",\n        \"description\": \"\"\n      }\n    }\n  ]\n}"
            }
          },
          "metadata": {},
          "execution_count": 42
        }
      ]
    }
  ]
}