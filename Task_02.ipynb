{
  "nbformat": 4,
  "nbformat_minor": 0,
  "metadata": {
    "colab": {
      "provenance": []
    },
    "kernelspec": {
      "name": "python3",
      "display_name": "Python 3"
    },
    "language_info": {
      "name": "python"
    }
  },
  "cells": [
    {
      "cell_type": "code",
      "execution_count": null,
      "metadata": {
        "id": "UVoFWexkDa-g"
      },
      "outputs": [],
      "source": [
        "#sentence should be both grammarically and contextually correct"
      ]
    },
    {
      "cell_type": "markdown",
      "source": [
        "#**Experiment 2**\n",
        "###**Task 2.1**\n",
        "Write a function get_word_count that takes a variable word as string and returns count of that word in given corpus.\n",
        "\n",
        "(corpus is also a variable)"
      ],
      "metadata": {
        "id": "cMw69hhBIb9W"
      }
    },
    {
      "cell_type": "code",
      "source": [
        "corpus = \"US Election 2024 Results LIVE: Donald Trump has been elected the 47th president of the United States, an extraordinary comeback for a former president in over a century. Trump won an election that will return him to the White House by winning Wisconsin, the same state that put him over the top when he won in 2016. Other than Wisconsin, the former President won key battlegrounds of  Georgia, North Carolina and Pennsylvania, two of which voted Democratic in the last election. That gives him 295 electoral votes, breaching the 270 mark to win the presidency, according to The New York Times. Fox News, CNN and the Associated Press have already called the race in Trump’s favour. Kamala Harris has so far captured 226 electoral votes, including big prizes California and New York — as well as the US capital Washington. The following is a list of the states won by each candidate and the corresponding number of electoral votes, based on the projections of US media including CNN, Fox News, MSNBC/NBC News, ABC and CBS.\"\n",
        "corpus = corpus.lower()"
      ],
      "metadata": {
        "id": "lPav2YE9J1NB"
      },
      "execution_count": null,
      "outputs": []
    },
    {
      "cell_type": "code",
      "source": [
        "def tokenize(corpus):\n",
        "  output = []\n",
        "  output = corpus.split()\n",
        "  return output"
      ],
      "metadata": {
        "id": "3oPtQsLwMP-g"
      },
      "execution_count": null,
      "outputs": []
    },
    {
      "cell_type": "code",
      "source": [
        "def get_word_count(word):\n",
        "  count = 0\n",
        "  global corpus\n",
        "  tokenizedCorpus = tokenize(corpus)\n",
        "  for token in tokenizedCorpus:\n",
        "    if word == token:\n",
        "      count += 1\n",
        "  return count"
      ],
      "metadata": {
        "id": "7aLhF7KFME3K"
      },
      "execution_count": null,
      "outputs": []
    },
    {
      "cell_type": "code",
      "source": [
        "word = \"the\"\n",
        "word.lower()\n",
        "print(get_word_count(word))"
      ],
      "metadata": {
        "colab": {
          "base_uri": "https://localhost:8080/"
        },
        "id": "5hd4A7itKpSC",
        "outputId": "becb26b6-6955-4196-9c56-fb7f2c4eedaf"
      },
      "execution_count": null,
      "outputs": [
        {
          "output_type": "stream",
          "name": "stdout",
          "text": [
            "17\n"
          ]
        }
      ]
    },
    {
      "cell_type": "markdown",
      "source": [
        "##**Task 2.2**\n",
        "Write a function n_map(corpus) that takes corpus and returns a dictionary that maps every unique word in corpus to a unique number.\n",
        "\n",
        "**Example corpus:** \"Cat sat on the mat. Cat sat on the floor\"\n",
        "\n",
        "dictionary: {'Cat' : 1, 'sat' : 2, 'on' : 3, 'the' : 4, 'mat' : 5, 'floor' : 6}"
      ],
      "metadata": {
        "id": "-GQD1s0z6Z7z"
      }
    },
    {
      "cell_type": "code",
      "source": [
        "def uniqueTokens(corpus):\n",
        "  uniqueTokens = set(corpus)\n",
        "  return uniqueTokens"
      ],
      "metadata": {
        "id": "Tgul6PpU9J7a"
      },
      "execution_count": null,
      "outputs": []
    },
    {
      "cell_type": "code",
      "source": [
        "def n_map(corpus):\n",
        "  corpus = tokenize(corpus)\n",
        "  uniqueValues = uniqueTokens(corpus)\n",
        "  dictionary = {}\n",
        "  uniqueNumber = 0\n",
        "  for token in uniqueValues:\n",
        "    dictionary[token] = uniqueNumber\n",
        "    uniqueNumber += 1\n",
        "  return dictionary"
      ],
      "metadata": {
        "id": "-RB20yfj8Tqx"
      },
      "execution_count": null,
      "outputs": []
    },
    {
      "cell_type": "code",
      "source": [
        "dictionary = n_map(corpus)\n",
        "print(dictionary)"
      ],
      "metadata": {
        "colab": {
          "base_uri": "https://localhost:8080/"
        },
        "id": "lPNQeKE6_8M8",
        "outputId": "94edaaa4-65bc-49f9-a9b9-6929b0c0373f"
      },
      "execution_count": null,
      "outputs": [
        {
          "output_type": "stream",
          "name": "stdout",
          "text": [
            "{'cnn,': 0, 'washington.': 1, 'votes,': 2, 'top': 3, 'states,': 4, 'win': 5, 'battlegrounds': 6, 'already': 7, 'white': 8, 'donald': 9, 'him': 10, 'corresponding': 11, '2024': 12, 'when': 13, 'key': 14, 'abc': 15, 'a': 16, 'including': 17, 'captured': 18, 'based': 19, 'york': 20, 'cnn': 21, 'capital': 22, 'us': 23, 'and': 24, 'than': 25, 'by': 26, 'will': 27, 'in': 28, 'wisconsin,': 29, 'extraordinary': 30, 'over': 31, 'that': 32, 'mark': 33, 'each': 34, 'favour.': 35, 'kamala': 36, 'press': 37, 'states': 38, 'have': 39, '295': 40, 'an': 41, 'california': 42, 'breaching': 43, 'msnbc/nbc': 44, 'last': 45, 'times.': 46, 'far': 47, 'the': 48, 'return': 49, 'race': 50, 'north': 51, 'georgia,': 52, '270': 53, 'two': 54, 'candidate': 55, 'which': 56, 'electoral': 57, 'president': 58, 'put': 59, 'he': 60, 'new': 61, 'news,': 62, 'fox': 63, 'media': 64, 'trump’s': 65, '226': 66, 'comeback': 67, 'associated': 68, 'election.': 69, 'big': 70, 'century.': 71, 'is': 72, 'called': 73, 'list': 74, 'trump': 75, 'projections': 76, 'to': 77, 'live:': 78, 'same': 79, 'of': 80, 'other': 81, 'on': 82, 'harris': 83, 'been': 84, 'united': 85, 'cbs.': 86, 'gives': 87, 'elected': 88, 'winning': 89, '47th': 90, 'presidency,': 91, 'as': 92, 'won': 93, 'prizes': 94, '—': 95, 'has': 96, 'well': 97, 'former': 98, '2016.': 99, 'so': 100, 'house': 101, 'voted': 102, 'following': 103, 'democratic': 104, 'carolina': 105, 'pennsylvania,': 106, 'number': 107, 'state': 108, 'election': 109, 'for': 110, 'according': 111, 'results': 112}\n"
          ]
        }
      ]
    },
    {
      "cell_type": "code",
      "source": [
        "a = {1,2,3,4,5,1,1,1,2,2,2,3,3,3}\n",
        "print(a)"
      ],
      "metadata": {
        "colab": {
          "base_uri": "https://localhost:8080/"
        },
        "id": "LxsptbklBhAT",
        "outputId": "af21fff1-f476-4694-910d-5a9e403534f2"
      },
      "execution_count": null,
      "outputs": [
        {
          "output_type": "stream",
          "name": "stdout",
          "text": [
            "{1, 2, 3, 4, 5}\n"
          ]
        }
      ]
    },
    {
      "cell_type": "code",
      "source": [
        "type(a)"
      ],
      "metadata": {
        "colab": {
          "base_uri": "https://localhost:8080/"
        },
        "id": "1XYim0rmBmpd",
        "outputId": "f4e42c50-ae98-4ca9-c5ee-b605733fb383"
      },
      "execution_count": null,
      "outputs": [
        {
          "output_type": "execute_result",
          "data": {
            "text/plain": [
              "set"
            ]
          },
          "metadata": {},
          "execution_count": 44
        }
      ]
    }
  ]
}